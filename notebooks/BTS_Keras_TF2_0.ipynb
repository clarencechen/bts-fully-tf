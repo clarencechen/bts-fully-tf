{
  "nbformat": 4,
  "nbformat_minor": 0,
  "metadata": {
    "colab": {
      "name": "BTS_Keras_TF2_0.ipynb",
      "provenance": [],
      "collapsed_sections": []
    },
    "kernelspec": {
      "name": "python3",
      "display_name": "Python 3"
    },
    "accelerator": "TPU"
  },
  "cells": [
    {
      "cell_type": "code",
      "metadata": {
        "id": "90LRFItTvtxb",
        "colab_type": "code",
        "colab": {}
      },
      "source": [
        "!rm -rf sample_data/\n",
        "!git clone https://github.com/clarencechen/bts-fully-tf.git\n",
        "%cd bts-fully-tf/\n",
        "!chmod +x *.sh"
      ],
      "execution_count": null,
      "outputs": []
    },
    {
      "cell_type": "code",
      "metadata": {
        "id": "tAtJAFETq_y8",
        "colab_type": "code",
        "colab": {}
      },
      "source": [
        "!./init_densenet_161.sh"
      ],
      "execution_count": null,
      "outputs": []
    },
    {
      "cell_type": "code",
      "metadata": {
        "id": "SAAQ34h-k7Cs",
        "colab_type": "code",
        "colab": {}
      },
      "source": [
        "from google.colab import auth\n",
        "auth.authenticate_user()\n",
        "bucket_name = 'bts-tf2-model'"
      ],
      "execution_count": 4,
      "outputs": []
    },
    {
      "cell_type": "code",
      "metadata": {
        "id": "DcBB3bGd4g7J",
        "colab_type": "code",
        "colab": {}
      },
      "source": [
        "%cd /content/bts-fully-tf/\n",
        "!python bts_train.py args/train_nyu_gcloud.txt --log_directory gs://{bucket_name}/"
      ],
      "execution_count": null,
      "outputs": []
    },
    {
      "cell_type": "code",
      "metadata": {
        "id": "QXm6kwQXAQTk",
        "colab_type": "code",
        "colab": {}
      },
      "source": [
        "%cd /content/bts-fully-tf/\n",
        "!python bts_train.py args/train_eigen_gcloud.txt --log_directory gs://{bucket_name}/"
      ],
      "execution_count": null,
      "outputs": []
    },
    {
      "cell_type": "code",
      "metadata": {
        "id": "FImZeQEeiHRJ",
        "colab_type": "code",
        "colab": {}
      },
      "source": [
        "!mkdir ./models/; mkdir ./models/bts_nyu/ && mkdir ./models/bts_eigen\n",
        "!gsutil cp -r gs://bts-tf2-model/bts_nyu/* ./models/bts_nyu/\n",
        "!gsutil cp -r gs://bts-tf2-model/bts_eigen/* ./models/bts_eigen/"
      ],
      "execution_count": null,
      "outputs": []
    },
    {
      "cell_type": "code",
      "metadata": {
        "id": "hMozwQWVtry0",
        "colab_type": "code",
        "colab": {}
      },
      "source": [
        "%cd /content/bts-fully-tf/\n",
        "!python bts_eval.py args/test_eigen_gcloud.txt --checkpoint_path gs://{bucket_name}/"
      ],
      "execution_count": null,
      "outputs": []
    },
    {
      "cell_type": "code",
      "metadata": {
        "id": "uRc0i5Lu3-uv",
        "colab_type": "code",
        "colab": {}
      },
      "source": [
        "%cd /content/bts-fully-tf/\n",
        "!python bts_eval.py args/test_nyu_gcloud.txt --checkpoint_path gs://{bucket_name}/"
      ],
      "execution_count": null,
      "outputs": []
    },
    {
      "cell_type": "code",
      "metadata": {
        "id": "mJ1J-L4GpjSs",
        "colab_type": "code",
        "colab": {}
      },
      "source": [
        "%cd /content/bts-fully-tf/\n",
        "!git stash\n",
        "!git pull\n",
        "!git stash drop\n",
        "!chmod +x *.sh"
      ],
      "execution_count": null,
      "outputs": []
    },
    {
      "cell_type": "code",
      "metadata": {
        "id": "syqWO071-o2l",
        "colab_type": "code",
        "colab": {}
      },
      "source": [
        "%cd /content/bts-fully-tf/\n",
        "!python bts_test.py --model_name bts_eigen \\\n",
        "--encoder densenet161_bts \\\n",
        "--dataset kitti \\\n",
        "--tfrecord_path gs://nyu-depth-v2/kitti-eigen-predict-compressed.tfrecord \\\n",
        "--filenames_file ./train_test_inputs/eigen_test_files_without_gt.txt \\\n",
        "--input_height 352 \\\n",
        "--input_width 1216 \\\n",
        "--max_depth 80 \\\n",
        "--checkpoint_path gs://{bucket_name}/ \\\n",
        "--batch_size 32 \\\n",
        "--do_kb_crop"
      ],
      "execution_count": null,
      "outputs": []
    },
    {
      "cell_type": "code",
      "metadata": {
        "id": "ow0lbYkU_Yll",
        "colab_type": "code",
        "colab": {}
      },
      "source": [
        "!kill 195\n",
        "%load_ext tensorboard\n",
        "%tensorboard --logdir gs://{bucket_name}"
      ],
      "execution_count": null,
      "outputs": []
    },
    {
      "cell_type": "code",
      "metadata": {
        "id": "1fA0oxJACyBU",
        "colab_type": "code",
        "colab": {}
      },
      "source": [
        "!pip install -r requirements.txt"
      ],
      "execution_count": null,
      "outputs": []
    }
  ]
}